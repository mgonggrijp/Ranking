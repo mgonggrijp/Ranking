{
 "cells": [
  {
   "cell_type": "code",
   "execution_count": 1,
   "metadata": {},
   "outputs": [],
   "source": [
    "import numpy as np\n",
    "import requests\n",
    "import re\n",
    "from rank_bm25 import BM25Okapi\n",
    "from fuzzywuzzy import fuzz\n",
    "from fuzzywuzzy import process\n",
    "from country_list import countries_for_language"
   ]
  },
  {
   "cell_type": "code",
   "execution_count": 2,
   "metadata": {},
   "outputs": [],
   "source": [
    "\"\"\"\n",
    "    Country list needed later to check if a string is\n",
    "    a country entity.\n",
    "\"\"\"\n",
    "countries = dict(countries_for_language('en'))\n",
    "countries = {key : countries[key].lower() for key in countries}"
   ]
  },
  {
   "cell_type": "markdown",
   "metadata": {},
   "source": [
    "## Manual copy-paste of all variables listed in the ACTRIS data manage plan\n",
    "link: http://www.actris.eu/Portals/46/Publications/DataCentre/ACTRIS_Data_Management_Plan.pdf \n",
    "\n",
    "Variables are listed in the Appendix I"
   ]
  },
  {
   "cell_type": "code",
   "execution_count": 3,
   "metadata": {},
   "outputs": [],
   "source": [
    "# ACTRIS Aerosol Particle Variables\n",
    "# In situ aerosol particle variables\n",
    "AP_in_situ = [\"Particle light scattering coefficient \",\n",
    "            \"Particle light backscattering coefficient\",\n",
    "            \"Particle number size distribution\",\n",
    "            \"Particle light absorption coefficient\",\n",
    "            \"Particle number concentration \",\n",
    "            \"Cloud condensation nuclei number concentration\",\n",
    "            \"Hygroscopic growth factor\",\n",
    "            \"Particulate organic and elemental carbon mass concentrations (OC/EC)\",\n",
    "            \"Particulate size-resolved chemical composition (organic & inorganic size-resolved mass speciation)\",\n",
    "            \"Particulate levogluocsan mass concentration\"]\n",
    "# ACTRIS in situ trace gas variables\n",
    "TG_in_situ = [\"NMHCs\",\n",
    "             \"OVOCs\",\n",
    "             \"NO\",\n",
    "             \"NO2\",\n",
    "             \"NOy\"]\n",
    "# ACTRIS Aerosol particle variables\n",
    "# Aerosol remote sensing variables \n",
    "AP_remote_sensing = [\"Aerosol backscatter coefficient profile\",\n",
    "                    \"Aerosol extinction coefficient profile \",\n",
    "                    \"Lidar ratio profile\",\n",
    "                    \"Ångström exponent profile\",\n",
    "                    \"Backscatter-related Ångström exponent profile\",\n",
    "                    \"Particle depolarization ratio profile\",\n",
    "                    \"Particle layer geometrical properties\",\n",
    "                    \"Particle layer optical properties\",\n",
    "                    \"Aerosol optical depth\",\n",
    "                    \"Planetary boundary layer height\"]\n",
    "# ACTRIS cloud variables \n",
    "\n",
    "# Cloud remote sensing variables (remote observations from ground)\n",
    "C_remote_sensing = [\"cloud/aerosol target classification\",\n",
    "                    \"drizzle drop size distribution\",\n",
    "                    \"drizzle water content\",\n",
    "                    \"drizzle water flux\",\n",
    "                    \"ice water content\",\n",
    "                    \"liquid water content\",\n",
    "                    \"liquid water path\",\n",
    "                    \"rainrate\"]\n",
    "\n",
    "# In situ cloud variables\n",
    "C_in_situ = [\"Liquid Water Content\"]\n",
    "\n",
    "# Detailed list of trace gases included in ACTRIS - Alkanes, Alkenes, Alkynes\n",
    "# Alkanes\n",
    "TG_alkanes = [\"ethane\",\n",
    "            \"propane\",\n",
    "            \"2-methylpropane\",\n",
    "            \"n-butane \",\n",
    "            \"2-2-dimethylpropane\",\n",
    "            \"2-methylbutane \",\n",
    "            \"n-pentane\",\n",
    "            \"cyclopentane\",\n",
    "            \"methyl-cyclopentane\",\n",
    "            \"2-2-dimethylbutane\",\n",
    "            \"2-3-dimethylbutane\",\n",
    "            \"2-methylpentane\",\n",
    "            \"3-methylpentane\",\n",
    "            \"cyclohexane\",\n",
    "            \"n-hexane\",\n",
    "            \"methyl-cyclohexane\",\n",
    "            \"2-2-3-trimethylbutane\",\n",
    "            \"2-3-dimethylpentane\",\n",
    "            \"2-2-dimethylpentane\",\n",
    "            \"2-4-dimethylpentane\",\n",
    "            \"3-3-dimethylpentane\",\n",
    "            \"3-methylhexane\",\n",
    "            \"2-methylhexane\",\n",
    "            \"n-heptane\",\n",
    "            \"2-2-4-trimethylpentane\",\n",
    "            \"3-methylheptane\",\n",
    "            \"n-octane\",\n",
    "            \"n-nonane\",\n",
    "            \"n-decane\",\n",
    "            \"methyl-cyclohexane\",\n",
    "            \"n-undecane\",\n",
    "            \"n-dodecane\",\n",
    "            \"n-tridecane\",\n",
    "            \"n-tetradecane\",\n",
    "            \"n-pentadecane\",\n",
    "            \"n-hexadecane \"]\n",
    "\n",
    "# Alkenes\n",
    "TG_alkenes = [\"ethene\",\n",
    "            \"propene\",\n",
    "            \"trans-2-butene\",\n",
    "            \"1-butene\",\n",
    "            \"2-methylpropene\",\n",
    "            \"cis-2-butene\",\n",
    "            \"1-3-butadiene\",\n",
    "            \"3-methyl-1-butene,\"\n",
    "            \"2-methyl-2-butene,\"\n",
    "            \"trans-2-pentene\",\n",
    "            \"cyclopentene\",\n",
    "            \"1-pentene\",\n",
    "            \"cis-2-pentene\",\n",
    "            \"1-hexene\",\n",
    "            \"isoprene\"]\n",
    "\n",
    "# Alkynes\n",
    "TG_alkynes = [\"ethyne\",\n",
    "            \"proypne\",\n",
    "            \"1-butyne\"]\n",
    "\n",
    "# Detailed list of trace gases included in ACTRIS - OVOCs, Terpenes, Aromatics\n",
    "\n",
    "# OVOCs\n",
    "TG_OVOCs = [\"methanol\",\n",
    "            \"ethanol\",\n",
    "            \"isopropano\",\n",
    "            \"n-propanol\",\n",
    "            \"n-butanol\",\n",
    "            \"methyl-butanol\",\n",
    "            \"formaldehyde\",\n",
    "            \"acetaldehyde\",\n",
    "            \"n-propanal\",\n",
    "            \"n-butanal\",\n",
    "            \"pentanal\",\n",
    "            \"hexanal\",\n",
    "            \"heptanal\",\n",
    "            \"octanal\",\n",
    "            \"decanal\",\n",
    "            \"undecanal\",\n",
    "            \"benzaldehyde\",\n",
    "            \"acrolein\",\n",
    "            \"acetone\",\n",
    "            \"methylethylketon\",\n",
    "            \"methacrolein\",\n",
    "            \"methylvinylketon\",\n",
    "            \"glyoxal\",\n",
    "            \"methylglyoxal\",\n",
    "            \"butylacetat\",\n",
    "            \"acetonitrile\"]\n",
    "\n",
    "# Terpenes\n",
    "TG_terpenes = [\"alpha-thujene\",\n",
    "                \"tricyclene\",\n",
    "                \"alpha-pinene\",\n",
    "                \"camphene\",\n",
    "                \"sabinene\",\n",
    "                \"myrcene\",\n",
    "                \"beta-pinene\",\n",
    "                \"alpha-phellandrene\",\n",
    "                \"3-carene\",\n",
    "                \"alpha-terpinene\",\n",
    "                \"m-cymene\",\n",
    "                \"cis-ocimene\",\n",
    "                \"p-cymene\",\n",
    "                \"limonene\",\n",
    "                \"beta-phellandrene\",\n",
    "                \"eucalyptol\",\n",
    "                \"gamma-terpinene\",\n",
    "                \"terpinolene\",\n",
    "                \"camphor\"]\n",
    "\n",
    "#Aromatics\n",
    "TG_aromatics = [\"benzene\",\n",
    "                \"toluene\",\n",
    "                \"ethylbenzene\",\n",
    "                \"m-p-xylene\",\n",
    "                \"o-xylene\",\n",
    "                \"1-3-5-trimethylbenzene\",\n",
    "                \"1-2-4-trimethylbenzene\",\n",
    "                \"1-2-3-trimethylbenzene\"]\n",
    "\n",
    "\"\"\"\n",
    "    Single list of all variables.\n",
    "\"\"\"\n",
    "all_variables = TG_alkanes + TG_alkenes+ TG_alkynes + TG_OVOCs + TG_terpenes + TG_aromatics  "
   ]
  },
  {
   "cell_type": "markdown",
   "metadata": {},
   "source": [
    "## Manually made variable hierarchy, an idea but not used yet in this version\n",
    "It is labor intensive to make this by hand. Perhaps some way is possible to automate making a variable knowledge base using the infrastructure metadata schemas."
   ]
  },
  {
   "cell_type": "code",
   "execution_count": 4,
   "metadata": {},
   "outputs": [],
   "source": [
    "ACTRIS_var_dict = {\n",
    "    \n",
    "    \"aerosol_particles\" : {\n",
    "        \"in_situ\" : AP_in_situ,\n",
    "        \"remote_sensing\" : AP_remote_sensing\n",
    "    },\n",
    "    \n",
    "    \"cloud_variables\" : {\n",
    "        \"remote_sensing\" : C_remote_sensing,\n",
    "        \"in_situ\" : C_in_situ\n",
    "        \n",
    "    },\n",
    "    \n",
    "    \"trace_gasses\" : {\n",
    "        \"alkanes\" : TG_alkanes, \n",
    "        \"alkenes\" : TG_alkenes,\n",
    "        \"alkynes\" : TG_alkynes,\n",
    "        \"ovocs\" : TG_OVOCs,\n",
    "        \"terpenes\" : TG_terpenes, \n",
    "        \"aromatics\" : TG_aromatics  \n",
    "    }\n",
    "    \n",
    "}"
   ]
  },
  {
   "cell_type": "code",
   "execution_count": 5,
   "metadata": {},
   "outputs": [],
   "source": [
    "# aerosol.absorption.coefficient, first result\n",
    "d1 = open(\"CH0001G.20070101000000.20181205113000.filter_absorption_photometer.aerosol_absorption_coefficient.aerosol.1y.1h.CH02L_Magee_AE337_JFJ.CH02L_aethalometer_AE337.lev2.nas\").read()\n",
    "\n",
    "# propene, first result\n",
    "d2_1 = open(\"CV0001G.20130701151343.20160823000000.online_gc..air.6mo.1h.CV01L_Agilent_GC-FID_7890A_G3440A.CV01L_Manual_AIR_only.lev0.nas\").read()\n",
    "d2_2 = open(\"CV0001G.20140101003925.20160823000000.online_gc..air.1y.1h.CV01L_Agilent_GC-FID_7890A_G3440A.CV01L_Manual_AIR_only.lev0.nas\").read()\n",
    "d2_3 = open(\"CV0001G.20150101001139.20160823000000.online_gc..air.1y.1h.CV01L_Agilent_GC-FID_7890A_G3440A.CV01L_Manual_AIR_only.lev0.nas\").read()\n",
    "d2 = d2_1 + d2_2 + d2_3\n",
    "\n",
    "# pressure + ACTRIS-INSITU, first result\n",
    "d3_1 = open(\"FI0023R.19920101000000.20181114115100.cpc.particle_number_concentration.pm10.1y.1h.FI03L_CPC_VAR_01.FI03L_CPC.lev2.nas\").read()\n",
    "d3_2 = open(\"FI0023R.19930101000000.20181114115100.cpc.particle_number_concentration.pm10.1y.1h.FI03L_CPC_VAR_01.FI03L_CPC.lev2.nas\").read()\n",
    "d3_3 = open(\"FI0023R.19940101000000.20181114115100.cpc.particle_number_concentration.pm10.1y.1h.FI03L_CPC_VAR_01.FI03L_CPC.lev2.nas\").read()\n",
    "d3 = d3_1 + d3_2 + d3_3\n",
    "\n",
    "# 1-pentene, first result \n",
    "d4 = open(\"CZ0003R.20150101120000.20170728090000.steel_canister..air.1y.78h.CZ01L_Andersen_instrument.CZ01L_Agilent_VOC_AIR.lev2.nas\").read()\n",
    "\n",
    "# NOy.concentration, second result\n",
    "d5_1 = open(\"FI0096G.19950101000000.20080611000000.chemiluminescence_photolytic.nitrogen_dioxide.air.1y.1h.FI01L_chemilum_96.FI01L_chemilum..nas\").read()\n",
    "d5_2 = open(\"FI0096G.19960101000000.20080611000000.chemiluminescence_photolytic.nitrogen_dioxide.air.1y.1h.FI01L_chemilum_96.FI01L_chemilum..nas\").read()\n",
    "d5_3 = open(\"FI0096G.19970101000000.20080611000000.chemiluminescence_photolytic.nitrogen_dioxide.air.1y.1h.FI01L_chemilum_96.FI01L_chemilum..nas\").read()\n",
    "d5 = d5_1 + d5_2 + d5_3\n",
    "\n",
    "docset = [(\"https://actris.nilu.no/Data/Files/Display/?key=ae0630ef83e44c998b72bbb01b5cdabb\", d1),\n",
    "          (\"https://actris.nilu.no/Data/Files/Display/?key=833978ac5be344e6b66d4e5de5e4043b\", d2),\n",
    "          (\"https://actris.nilu.no/Data/Files/Display/?key=ec2282cd2ed0492cb6eac39c6a8931a3\", d3),\n",
    "          (\"https://actris.nilu.no/Data/Files/Display/?key=7a5e6855f548495fbd3d36f86b29dd79\", d4),\n",
    "          (\"https://actris.nilu.no/Data/Files/Display/?key=3fd98d9615084039bfdb17c2640e9997\", d5)]"
   ]
  },
  {
   "cell_type": "markdown",
   "metadata": {},
   "source": [
    "## Preprocessing functions to clean the raw text format"
   ]
  },
  {
   "cell_type": "code",
   "execution_count": 6,
   "metadata": {},
   "outputs": [],
   "source": [
    "\"\"\"\n",
    "    Checks if a string contains any alphabetic\n",
    "    characters.\n",
    "\"\"\"\n",
    "def contains_alpha(string):\n",
    "    \n",
    "        for x in string:\n",
    "            \n",
    "            if x.isalpha():\n",
    "                return True\n",
    "            \n",
    "        return False\n",
    "    \n",
    "\"\"\"\n",
    "    Seperates raw text strings on commas and newlines.\n",
    "    Removes pure numerics (e.g. 12.35).\n",
    "    Removes \" marks and makes everything lower case.\n",
    "\"\"\"\n",
    "def clean_document(doc):\n",
    "    \n",
    "        return [x.lower().replace('\"','').replace(\"_\", \" \") for x in re.split(', |\\n', doc)\n",
    "                if x not in [''] and contains_alpha(x)]"
   ]
  },
  {
   "cell_type": "markdown",
   "metadata": {},
   "source": [
    "## Fuzzy matching functions used to generalize queries"
   ]
  },
  {
   "cell_type": "code",
   "execution_count": 7,
   "metadata": {},
   "outputs": [],
   "source": [
    "\"\"\"\n",
    "    Match query words against a vocabulary\n",
    "    and return top k matches.\n",
    "\"\"\"\n",
    "def top_k_fuzzy_matches(vocabulary, query_word, k):\n",
    "    \n",
    "    l = len(vocabulary)\n",
    "    top_k_matches = [None] * l\n",
    "\n",
    "    for i, vocab_word in enumerate(vocabulary):\n",
    "        top_k_matches[i] = ((fuzz.ratio(vocab_word, query_word), vocab_word))\n",
    "                \n",
    "    top_k_matches.sort(reverse=True)   \n",
    "    \n",
    "    return top_k_matches[:k]"
   ]
  },
  {
   "cell_type": "code",
   "execution_count": 8,
   "metadata": {},
   "outputs": [],
   "source": [
    "\"\"\"\n",
    "    Expands an input query by adding fuzzy\n",
    "    matching words. Fuzzyness defines\n",
    "    how many of the top k fuzzy matches\n",
    "    should be used.\n",
    "\"\"\"\n",
    "def fuzzy_query(vocabulary, query, k):\n",
    "    \n",
    "    for w in query:\n",
    "        for _, match in top_k_fuzzy_matches(vocabulary, w, k):\n",
    "            if match not in query:\n",
    "                query.append(match)  \n",
    "\n",
    "    return query"
   ]
  },
  {
   "cell_type": "markdown",
   "metadata": {},
   "source": [
    "## Represent documents by a selection of entities that are common in all datasets "
   ]
  },
  {
   "cell_type": "code",
   "execution_count": 9,
   "metadata": {},
   "outputs": [],
   "source": [
    "def make_doc_dict(cleaned_document):\n",
    "\n",
    "    document_dict = {\n",
    "                 \"country\" : None,\n",
    "                 \"station name\" : None,\n",
    "                 \"coordinates\" : {},\n",
    "                 \"people\" : [],\n",
    "                 \"etc\" : []\n",
    "                }\n",
    "    \n",
    "    for x in cleaned_document:\n",
    "        word_set = x.split()\n",
    "        l = len(word_set)\n",
    "\n",
    "        for i, item in enumerate(word_set):\n",
    "\n",
    "            if item in countries.values():\n",
    "                document_dict[\"country\"] = item\n",
    "\n",
    "            elif item == \"station\":\n",
    "\n",
    "                if \"name:\" in word_set:\n",
    "                    document_dict[\"station name\"] = word_set[i + 2]\n",
    "\n",
    "                if \"latitude:\" in word_set:\n",
    "                    document_dict[\"coordinates\"].update({\"latitude\" : word_set[i + 2]})\n",
    "\n",
    "                if \"longitude:\" in word_set:\n",
    "                    document_dict[\"coordinates\"].update({\"longitude\" : word_set[i + 2]})\n",
    "\n",
    "                if \"altitude:\" in word_set:\n",
    "                    document_dict[\"coordinates\"].update({\"altitude\" : word_set[i + 2]})\n",
    "\n",
    "            elif item == \"originator:\" or item == \"submitter:\":\n",
    "                document_dict[\"people\"].append(word_set[1])\n",
    "\n",
    "        document_dict[\"variables\"] = list(set(x.split()))\n",
    "\n",
    "    return document_dict"
   ]
  },
  {
   "cell_type": "code",
   "execution_count": 10,
   "metadata": {},
   "outputs": [],
   "source": [
    "\"\"\"\n",
    "    ReRankingSystem class. The idea is to have class instances\n",
    "    contain specific ranking methods. For now there is only one,\n",
    "    okapi BM250. \n",
    "    \n",
    "    During initializing the input documents are required to be\n",
    "    a list of long strings containing the raw text. This seems\n",
    "    to be the most common way datasets are made, atleast for ACTRIS.\n",
    "    \n",
    "    Further work that needs to be done:\n",
    "        1. Be able to process formats other that raw text (e.g XML, JSON).\n",
    "        Not sure if this should be done inside the RRS or maybe as a script\n",
    "        outside of it.\n",
    "        \n",
    "        2. Include more ranking methods. Assuming each ranking method\n",
    "        requires it's own input format for queries and documents, \n",
    "        significant work may have to be done to streamline this.\n",
    "        \n",
    "        3. Make a function / functions that process user feedback\n",
    "        fo the learning methods.\n",
    "        \n",
    "        4. Increase the test dataset and include data from other\n",
    "        infrastructures besides ACTRIS.\n",
    "        \n",
    "        5. Include ranking method comparison functionality.\n",
    "        Either as a seperate script or built into the RRS.\n",
    "        \n",
    "        6. Make a more sophisticated representation of the\n",
    "        documents than the current dictionary forms. This\n",
    "        should use the metadata schema's provided by the\n",
    "        infrastructures.\n",
    "        \n",
    "        7. Make a method to automate document representations\n",
    "        (such as the dictionaries) from metadata schema's.\n",
    "\"\"\"\n",
    "class RRS:\n",
    "    \n",
    "    \"\"\"\n",
    "        During init the following things are specified:\n",
    "            1. what ranking method should be used, standard is okapi BM250\n",
    "            2. how fuzzy queries are, higher values means more fuzzy word\n",
    "               matches are added to the query.\n",
    "            3. Wether or not to use the organized dictionary structure\n",
    "               specified above. \n",
    "        These values define the class instance of the RRS.\n",
    "    \"\"\"\n",
    "    def __init__(self, corpus, ranking_method=\"BM25Okapi\", fuzzyness=1, use_dicts=True):\n",
    "        \n",
    "        self.fuzzyness = fuzzyness\n",
    "        \n",
    "        self.docs = [(d[0], clean_document(d[1])) for d in corpus]\n",
    "        self.doc_dicts = [(url, make_doc_dict(doc)) for url, doc in self.docs]\n",
    "        \n",
    "        self.ranker = None\n",
    "        self.ranker_method = \"None\"\n",
    "        \n",
    "        self.vocabulary = []\n",
    "        \n",
    "        for _, d in self.docs:\n",
    "            for w in d:\n",
    "                self.vocabulary.append(w)\n",
    "        self.vocabulary = list(set(self.vocabulary))\n",
    "        \n",
    "        if use_dicts == True:\n",
    "            \n",
    "            if ranking_method == \"BM25Okapi\":\n",
    "                self.ranker = BM25Okapi([d[1][\"variables\"] for d in self.doc_dicts])\n",
    "                self.ranker_method = \"BM250kapi\"\n",
    "            \n",
    "        else:\n",
    "            \n",
    "            if ranking_method == \"BM25Okapi\":\n",
    "                self.ranker = BM25Okapi([d[1] for d in self.docs])\n",
    "                self.ranker_method = \"BM250kapi\"\n",
    "            \n",
    "    \"\"\"\n",
    "        Calculate the scores given using the ranking model\n",
    "        for the current class instance. \n",
    "        \n",
    "        fuzzy_expansion specifies wether or not queries\n",
    "        should be expanded with fuzzy matches.\n",
    "    \"\"\"        \n",
    "    def get_scores(self, query, fuzzy_expansion=True):\n",
    "        \n",
    "        query = query.lower().split()\n",
    "        \n",
    "        if fuzzy_expansion == True:\n",
    "            query = fuzzy_query(self.vocabulary, query, self.fuzzyness)\n",
    "            print(query)\n",
    "        \n",
    "        if self.ranker_method == \"BM250kapi\":\n",
    "            return self.ranker.get_scores(query)\n",
    "        \n",
    "    \"\"\"\n",
    "        Return a list of tuples containing the ranking score\n",
    "        and the link to the dataset download.\n",
    "        \n",
    "        fuzzy_expansion specifies wether or not queries\n",
    "        should be expanded with fuzzy matches.\n",
    "    \"\"\"\n",
    "    def make_ranking(self, query, fuzzy_expansion=True):\n",
    "        \n",
    "        scores = self.get_scores(query, fuzzy_expansion)\n",
    "        ranking = [None]*len(scores)\n",
    "        \n",
    "        for i, score in enumerate(scores):\n",
    "            ranking[i] = (score, self.docs[i][0])\n",
    "        \n",
    "        ranking.sort()\n",
    "        ranking.reverse()\n",
    "        \n",
    "        return ranking"
   ]
  },
  {
   "cell_type": "code",
   "execution_count": 11,
   "metadata": {},
   "outputs": [],
   "source": [
    "rrs = RRS(docset)"
   ]
  },
  {
   "cell_type": "code",
   "execution_count": 12,
   "metadata": {},
   "outputs": [
    {
     "name": "stdout",
     "output_type": "stream",
     "text": [
      "['aerosol', 'jaroslav']\n"
     ]
    },
    {
     "data": {
      "text/plain": [
       "[(1.3024784865652848,\n",
       "  'https://actris.nilu.no/Data/Files/Display/?key=ae0630ef83e44c998b72bbb01b5cdabb'),\n",
       " (0.0,\n",
       "  'https://actris.nilu.no/Data/Files/Display/?key=ec2282cd2ed0492cb6eac39c6a8931a3'),\n",
       " (0.0,\n",
       "  'https://actris.nilu.no/Data/Files/Display/?key=833978ac5be344e6b66d4e5de5e4043b'),\n",
       " (0.0,\n",
       "  'https://actris.nilu.no/Data/Files/Display/?key=7a5e6855f548495fbd3d36f86b29dd79'),\n",
       " (0.0,\n",
       "  'https://actris.nilu.no/Data/Files/Display/?key=3fd98d9615084039bfdb17c2640e9997')]"
      ]
     },
     "execution_count": 12,
     "metadata": {},
     "output_type": "execute_result"
    }
   ],
   "source": [
    "rrs.make_ranking(\"aerosol\")"
   ]
  },
  {
   "cell_type": "code",
   "execution_count": 13,
   "metadata": {},
   "outputs": [
    {
     "name": "stdout",
     "output_type": "stream",
     "text": [
      "['c4h10', 'ch02l']\n"
     ]
    },
    {
     "data": {
      "text/plain": [
       "[(0.35745318440128865,\n",
       "  'https://actris.nilu.no/Data/Files/Display/?key=833978ac5be344e6b66d4e5de5e4043b'),\n",
       " (0.22016675511487616,\n",
       "  'https://actris.nilu.no/Data/Files/Display/?key=7a5e6855f548495fbd3d36f86b29dd79'),\n",
       " (0.0,\n",
       "  'https://actris.nilu.no/Data/Files/Display/?key=ec2282cd2ed0492cb6eac39c6a8931a3'),\n",
       " (0.0,\n",
       "  'https://actris.nilu.no/Data/Files/Display/?key=ae0630ef83e44c998b72bbb01b5cdabb'),\n",
       " (0.0,\n",
       "  'https://actris.nilu.no/Data/Files/Display/?key=3fd98d9615084039bfdb17c2640e9997')]"
      ]
     },
     "execution_count": 13,
     "metadata": {},
     "output_type": "execute_result"
    }
   ],
   "source": [
    "rrs.make_ranking(\"c4h10\")"
   ]
  },
  {
   "cell_type": "code",
   "execution_count": 14,
   "metadata": {},
   "outputs": [
    {
     "name": "stdout",
     "output_type": "stream",
     "text": [
      "['particle', 'martine']\n"
     ]
    },
    {
     "data": {
      "text/plain": [
       "[(1.167116981033096,\n",
       "  'https://actris.nilu.no/Data/Files/Display/?key=ec2282cd2ed0492cb6eac39c6a8931a3'),\n",
       " (0.0,\n",
       "  'https://actris.nilu.no/Data/Files/Display/?key=ae0630ef83e44c998b72bbb01b5cdabb'),\n",
       " (0.0,\n",
       "  'https://actris.nilu.no/Data/Files/Display/?key=833978ac5be344e6b66d4e5de5e4043b'),\n",
       " (0.0,\n",
       "  'https://actris.nilu.no/Data/Files/Display/?key=7a5e6855f548495fbd3d36f86b29dd79'),\n",
       " (0.0,\n",
       "  'https://actris.nilu.no/Data/Files/Display/?key=3fd98d9615084039bfdb17c2640e9997')]"
      ]
     },
     "execution_count": 14,
     "metadata": {},
     "output_type": "execute_result"
    }
   ],
   "source": [
    "rrs.make_ranking(\"particle\")"
   ]
  },
  {
   "cell_type": "code",
   "execution_count": 15,
   "metadata": {},
   "outputs": [
    {
     "name": "stdout",
     "output_type": "stream",
     "text": [
      "['ethylbenzene']\n"
     ]
    },
    {
     "data": {
      "text/plain": [
       "[(0.7188643709634858,\n",
       "  'https://actris.nilu.no/Data/Files/Display/?key=7a5e6855f548495fbd3d36f86b29dd79'),\n",
       " (0.0,\n",
       "  'https://actris.nilu.no/Data/Files/Display/?key=ec2282cd2ed0492cb6eac39c6a8931a3'),\n",
       " (0.0,\n",
       "  'https://actris.nilu.no/Data/Files/Display/?key=ae0630ef83e44c998b72bbb01b5cdabb'),\n",
       " (0.0,\n",
       "  'https://actris.nilu.no/Data/Files/Display/?key=833978ac5be344e6b66d4e5de5e4043b'),\n",
       " (0.0,\n",
       "  'https://actris.nilu.no/Data/Files/Display/?key=3fd98d9615084039bfdb17c2640e9997')]"
      ]
     },
     "execution_count": 15,
     "metadata": {},
     "output_type": "execute_result"
    }
   ],
   "source": [
    "rrs.make_ranking(\"ethylbenzene\")"
   ]
  },
  {
   "cell_type": "code",
   "execution_count": 16,
   "metadata": {},
   "outputs": [
    {
     "name": "stdout",
     "output_type": "stream",
     "text": [
      "['no2', 'no unit']\n"
     ]
    },
    {
     "data": {
      "text/plain": [
       "[(1.473357588301255,\n",
       "  'https://actris.nilu.no/Data/Files/Display/?key=3fd98d9615084039bfdb17c2640e9997'),\n",
       " (0.0,\n",
       "  'https://actris.nilu.no/Data/Files/Display/?key=ec2282cd2ed0492cb6eac39c6a8931a3'),\n",
       " (0.0,\n",
       "  'https://actris.nilu.no/Data/Files/Display/?key=ae0630ef83e44c998b72bbb01b5cdabb'),\n",
       " (0.0,\n",
       "  'https://actris.nilu.no/Data/Files/Display/?key=833978ac5be344e6b66d4e5de5e4043b'),\n",
       " (0.0,\n",
       "  'https://actris.nilu.no/Data/Files/Display/?key=7a5e6855f548495fbd3d36f86b29dd79')]"
      ]
     },
     "execution_count": 16,
     "metadata": {},
     "output_type": "execute_result"
    }
   ],
   "source": [
    "rrs.make_ranking(\"no2\")"
   ]
  }
 ],
 "metadata": {
  "kernelspec": {
   "display_name": "Python 3",
   "language": "python",
   "name": "python3"
  },
  "language_info": {
   "codemirror_mode": {
    "name": "ipython",
    "version": 3
   },
   "file_extension": ".py",
   "mimetype": "text/x-python",
   "name": "python",
   "nbconvert_exporter": "python",
   "pygments_lexer": "ipython3",
   "version": "3.8.2"
  }
 },
 "nbformat": 4,
 "nbformat_minor": 4
}
