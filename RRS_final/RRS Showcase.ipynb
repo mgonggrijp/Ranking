{
 "cells": [
  {
   "cell_type": "code",
   "execution_count": 1,
   "metadata": {},
   "outputs": [],
   "source": [
    "from auxilary_functions import *\n",
    "from boolean_matching import *\n",
    "from vsm_and_bow import *\n",
    "from RRS import *\n",
    "import re"
   ]
  },
  {
   "cell_type": "markdown",
   "metadata": {},
   "source": [
    "## Set of test ranking output files"
   ]
  },
  {
   "cell_type": "code",
   "execution_count": 2,
   "metadata": {},
   "outputs": [],
   "source": [
    "\"\"\"\n",
    "    Files to re rank containing GeoNetwork ranking\n",
    "    in the form of XML.\n",
    "\"\"\"\n",
    "ranking1 = 'output_saline_water_body_sea_water_World_Ocean_marine_pelagic_feature_lentic_water_body_hydroform_marine_biome_cave_solid_astronomical_body_part_cave_wall_cave_floor_closure_incomplete_ocean_marine_water_body.xml'\n",
    "ranking2 = 'output_texel_geographic_feature_land_sea_marine_water_body_saline_water_body_sea_water_subcontinental_land_mass_island.xml'\n",
    "ranking3 = 'output_ocean_marine_water_body_saline_water_body_sea_water.xml'\n",
    "ranking4 = 'output_cave_solid_astronomical_body_part_cave_wall_cave_floor.xml'\n",
    "ranking5 = 'output_land_mass_continent.xml'"
   ]
  },
  {
   "cell_type": "markdown",
   "metadata": {},
   "source": [
    "## Process the old rankings so they can be compared to the new ones"
   ]
  },
  {
   "cell_type": "code",
   "execution_count": 3,
   "metadata": {},
   "outputs": [],
   "source": [
    "processed_r1 = handle_geonetwork_xml(ranking1)\n",
    "processed_r2 = handle_geonetwork_xml(ranking2)\n",
    "processed_r3 = handle_geonetwork_xml(ranking3)\n",
    "processed_r4 = handle_geonetwork_xml(ranking4)\n",
    "processed_r5 = handle_geonetwork_xml(ranking5)"
   ]
  },
  {
   "cell_type": "markdown",
   "metadata": {},
   "source": [
    "## Create an RRS class instance and make new rankings"
   ]
  },
  {
   "cell_type": "code",
   "execution_count": 4,
   "metadata": {},
   "outputs": [],
   "source": [
    "query1 = re.split(\"_|.xml\", ranking1)\n",
    "query1 = query1[0 : len(query1) - 1]\n",
    "\n",
    "query2 = re.split(\"_|.xml\", ranking2)\n",
    "query2 = query1[0 : len(query1) - 1]\n",
    "\n",
    "query3 = re.split(\"_|.xml\", ranking3)\n",
    "query3= query1[0 : len(query1) - 1]\n",
    "\n",
    "query4 = re.split(\"_|.xml\", ranking4)\n",
    "query4 = query1[0 : len(query1) - 1]\n",
    "\n",
    "query5 = re.split(\"_|.xml\", ranking5)\n",
    "query5 = query1[0 : len(query1) - 1]"
   ]
  },
  {
   "cell_type": "code",
   "execution_count": 5,
   "metadata": {},
   "outputs": [],
   "source": [
    "rrs_bm25 = RRS('bm25')"
   ]
  },
  {
   "cell_type": "markdown",
   "metadata": {},
   "source": [
    "## Show what the ranking returns: a score and a url"
   ]
  },
  {
   "cell_type": "code",
   "execution_count": 6,
   "metadata": {},
   "outputs": [
    {
     "data": {
      "text/plain": [
       "[(16.32692829642949,\n",
       "  'http://w3.avignon.inra.fr/geonetwork_anaee/546ed900-ded6-4770-be14-4e702b136309'),\n",
       " (8.272893889658,\n",
       "  'http://w3.avignon.inra.fr/geonetwork_anaee/srv/eng/catalog.search#/metadata/4fbd2cb9-1a62-484b-8aa4-e2c94b8acf82'),\n",
       " (6.9126120650060265,\n",
       "  ['phy.zip|Physiography of North and Central Eurasia Landform (Gif Format)|http://localhost:8080/geonetwork/srv/api/records/78f93047-74f8-4419-ac3d-fc62e4b0477b/attachments/phy.zip|WWW:DOWNLOAD-1.0-http--download|\\n        application/zip\\n      |1',\n",
       "   'GEONETWORK:phy_landf_7386|Physiography of North and Central Eurasia Landform|http://data.fao.org/maps/wms|OGC:WMS|application/vnd.ogc.wms_xml|1',\n",
       "   'GEONETWORK:phy_slope_7386|Physiography of North and Central Eurasia Slope|http://data.fao.org/maps/wms|OGC:WMS|application/vnd.ogc.wms_xml|1',\n",
       "   'GEONETWORK:phy_hypso_7386|Physiography of North and Central Eurasia Hypsography|http://data.fao.org/maps/wms|OGC:WMS|application/vnd.ogc.wms_xml|1'])]"
      ]
     },
     "execution_count": 6,
     "metadata": {},
     "output_type": "execute_result"
    }
   ],
   "source": [
    "new_ranking1 = rrs_bm25.rank(query1, ranking1, 'xml')\n",
    "new_ranking1[0:3]"
   ]
  },
  {
   "cell_type": "code",
   "execution_count": 7,
   "metadata": {},
   "outputs": [
    {
     "data": {
      "text/plain": [
       "[(16.522038315518174,\n",
       "  'http://w3.avignon.inra.fr/geonetwork_anaee/546ed900-ded6-4770-be14-4e702b136309'),\n",
       " (8.344545656848737,\n",
       "  'http://w3.avignon.inra.fr/geonetwork_anaee/srv/eng/catalog.search#/metadata/4fbd2cb9-1a62-484b-8aa4-e2c94b8acf82'),\n",
       " (7.2078565312719665,\n",
       "  ['phy.zip|Physiography of North and Central Eurasia Landform (Gif Format)|http://localhost:8080/geonetwork/srv/api/records/78f93047-74f8-4419-ac3d-fc62e4b0477b/attachments/phy.zip|WWW:DOWNLOAD-1.0-http--download|\\n        application/zip\\n      |1',\n",
       "   'GEONETWORK:phy_landf_7386|Physiography of North and Central Eurasia Landform|http://data.fao.org/maps/wms|OGC:WMS|application/vnd.ogc.wms_xml|1',\n",
       "   'GEONETWORK:phy_slope_7386|Physiography of North and Central Eurasia Slope|http://data.fao.org/maps/wms|OGC:WMS|application/vnd.ogc.wms_xml|1',\n",
       "   'GEONETWORK:phy_hypso_7386|Physiography of North and Central Eurasia Hypsography|http://data.fao.org/maps/wms|OGC:WMS|application/vnd.ogc.wms_xml|1'])]"
      ]
     },
     "execution_count": 7,
     "metadata": {},
     "output_type": "execute_result"
    }
   ],
   "source": [
    "new_ranking2 = rrs_bm25.rank(query2, ranking2, 'xml')\n",
    "new_ranking2[0:3]"
   ]
  },
  {
   "cell_type": "code",
   "execution_count": 8,
   "metadata": {},
   "outputs": [
    {
     "data": {
      "text/plain": [
       "[(15.748521870949808,\n",
       "  'http://w3.avignon.inra.fr/geonetwork_anaee/546ed900-ded6-4770-be14-4e702b136309'),\n",
       " (7.94886843148506,\n",
       "  'http://w3.avignon.inra.fr/geonetwork_anaee/srv/eng/catalog.search#/metadata/4fbd2cb9-1a62-484b-8aa4-e2c94b8acf82'),\n",
       " (7.440941719371811,\n",
       "  ['phy.zip|Physiography of North and Central Eurasia Landform (Gif Format)|http://localhost:8080/geonetwork/srv/api/records/78f93047-74f8-4419-ac3d-fc62e4b0477b/attachments/phy.zip|WWW:DOWNLOAD-1.0-http--download|\\n        application/zip\\n      |1',\n",
       "   'GEONETWORK:phy_landf_7386|Physiography of North and Central Eurasia Landform|http://data.fao.org/maps/wms|OGC:WMS|application/vnd.ogc.wms_xml|1',\n",
       "   'GEONETWORK:phy_slope_7386|Physiography of North and Central Eurasia Slope|http://data.fao.org/maps/wms|OGC:WMS|application/vnd.ogc.wms_xml|1',\n",
       "   'GEONETWORK:phy_hypso_7386|Physiography of North and Central Eurasia Hypsography|http://data.fao.org/maps/wms|OGC:WMS|application/vnd.ogc.wms_xml|1'])]"
      ]
     },
     "execution_count": 8,
     "metadata": {},
     "output_type": "execute_result"
    }
   ],
   "source": [
    "new_ranking3 = rrs_bm25.rank(query3, ranking3, 'xml')\n",
    "new_ranking3[0:3]"
   ]
  },
  {
   "cell_type": "code",
   "execution_count": 9,
   "metadata": {},
   "outputs": [
    {
     "data": {
      "text/plain": [
       "[(4.521716762154275,\n",
       "  'http://w3.avignon.inra.fr/geonetwork_anaee/c32a4228-b3b7-4eda-b06c-97d0e59c0dfb'),\n",
       " (3.586049918173352,\n",
       "  ['phy.zip|Physiography of North and Central Eurasia Landform (Gif Format)|http://localhost:8080/geonetwork/srv/api/records/78f93047-74f8-4419-ac3d-fc62e4b0477b/attachments/phy.zip|WWW:DOWNLOAD-1.0-http--download|\\n        application/zip\\n      |1',\n",
       "   'GEONETWORK:phy_landf_7386|Physiography of North and Central Eurasia Landform|http://data.fao.org/maps/wms|OGC:WMS|application/vnd.ogc.wms_xml|1',\n",
       "   'GEONETWORK:phy_slope_7386|Physiography of North and Central Eurasia Slope|http://data.fao.org/maps/wms|OGC:WMS|application/vnd.ogc.wms_xml|1',\n",
       "   'GEONETWORK:phy_hypso_7386|Physiography of North and Central Eurasia Hypsography|http://data.fao.org/maps/wms|OGC:WMS|application/vnd.ogc.wms_xml|1']),\n",
       " (3.474313373859927,\n",
       "  'http://w3.avignon.inra.fr/geonetwork_anaee/c7179e1a-1316-49f2-a5f9-94ca06bf3259')]"
      ]
     },
     "execution_count": 9,
     "metadata": {},
     "output_type": "execute_result"
    }
   ],
   "source": [
    "new_ranking4 = rrs_bm25.rank(query4, ranking4, 'xml')\n",
    "new_ranking4[0:3]"
   ]
  },
  {
   "cell_type": "code",
   "execution_count": 10,
   "metadata": {},
   "outputs": [
    {
     "data": {
      "text/plain": [
       "[(5.362062671855892,\n",
       "  ['phy.zip|Physiography of North and Central Eurasia Landform (Gif Format)|http://localhost:8080/geonetwork/srv/api/records/78f93047-74f8-4419-ac3d-fc62e4b0477b/attachments/phy.zip|WWW:DOWNLOAD-1.0-http--download|\\n        application/zip\\n      |1',\n",
       "   'GEONETWORK:phy_landf_7386|Physiography of North and Central Eurasia Landform|http://data.fao.org/maps/wms|OGC:WMS|application/vnd.ogc.wms_xml|1',\n",
       "   'GEONETWORK:phy_slope_7386|Physiography of North and Central Eurasia Slope|http://data.fao.org/maps/wms|OGC:WMS|application/vnd.ogc.wms_xml|1',\n",
       "   'GEONETWORK:phy_hypso_7386|Physiography of North and Central Eurasia Hypsography|http://data.fao.org/maps/wms|OGC:WMS|application/vnd.ogc.wms_xml|1']),\n",
       " (2.9955164592210117,\n",
       "  [\"|Online link to the 'Water Resources and Irrigation in Africa'- website|http://www.fao.org/ag/AGL/aglw/aquastat/watresafrica/index.stm|WWW:LINK-1.0-http--link|text/html|1\",\n",
       "   'basins.zip|Hydrological basins in Africa (Shapefile Format)|http://localhost:8080/geonetwork/srv/api/records/da165110-88fd-11da-a88f-000d939bc5d8/attachments/basins.zip|WWW:DOWNLOAD-1.0-http--download|\\n        application/zip\\n      |1',\n",
       "   'GEONETWORK:basins_296|Hydrological basins in Africa|http://data.fao.org/maps/wms|OGC:WMS|application/vnd.ogc.wms_xml|1']),\n",
       " (1.6495163806018325,\n",
       "  '|Web page listing Data Service Providers (DSP)s|http://www.land.vic.gov.au/vicmapdsp||text/plain|1')]"
      ]
     },
     "execution_count": 10,
     "metadata": {},
     "output_type": "execute_result"
    }
   ],
   "source": [
    "new_ranking5 = rrs_bm25.rank(query5, ranking5, 'xml')\n",
    "new_ranking5[0:3]"
   ]
  },
  {
   "cell_type": "markdown",
   "metadata": {},
   "source": [
    "## Comparing the top 3 results for the rankings\n",
    "\n",
    "This shows that there are different results for the bm25 method and the internal ranking method for GeoNetwork for the same exact query."
   ]
  },
  {
   "cell_type": "code",
   "execution_count": 11,
   "metadata": {},
   "outputs": [
    {
     "name": "stdout",
     "output_type": "stream",
     "text": [
      "old ranking\n",
      "\n",
      "0 http://w3.avignon.inra.fr/geonetwork_anaee/546ed900-ded6-4770-be14-4e702b136309 \n",
      "\n",
      "1 [\"|Online link to the 'Water Resources and Irrigation in Africa'- website|http://www.fao.org/ag/AGL/aglw/aquastat/watresafrica/index.stm|WWW:LINK-1.0-http--link|text/html|1\", 'basins.zip|Hydrological basins in Africa (Shapefile Format)|http://localhost:8080/geonetwork/srv/api/records/da165110-88fd-11da-a88f-000d939bc5d8/attachments/basins.zip|WWW:DOWNLOAD-1.0-http--download|\\n        application/zip\\n      |1', 'GEONETWORK:basins_296|Hydrological basins in Africa|http://data.fao.org/maps/wms|OGC:WMS|application/vnd.ogc.wms_xml|1'] \n",
      "\n",
      "2 http://w3.avignon.inra.fr/geonetwork_anaee/srv/eng/catalog.search#/metadata/4fbd2cb9-1a62-484b-8aa4-e2c94b8acf82 \n",
      "\n",
      "\n",
      "\n",
      "new ranking\n",
      "\n",
      "0 http://w3.avignon.inra.fr/geonetwork_anaee/546ed900-ded6-4770-be14-4e702b136309 \n",
      "\n",
      "1 http://w3.avignon.inra.fr/geonetwork_anaee/srv/eng/catalog.search#/metadata/4fbd2cb9-1a62-484b-8aa4-e2c94b8acf82 \n",
      "\n",
      "2 ['phy.zip|Physiography of North and Central Eurasia Landform (Gif Format)|http://localhost:8080/geonetwork/srv/api/records/78f93047-74f8-4419-ac3d-fc62e4b0477b/attachments/phy.zip|WWW:DOWNLOAD-1.0-http--download|\\n        application/zip\\n      |1', 'GEONETWORK:phy_landf_7386|Physiography of North and Central Eurasia Landform|http://data.fao.org/maps/wms|OGC:WMS|application/vnd.ogc.wms_xml|1', 'GEONETWORK:phy_slope_7386|Physiography of North and Central Eurasia Slope|http://data.fao.org/maps/wms|OGC:WMS|application/vnd.ogc.wms_xml|1', 'GEONETWORK:phy_hypso_7386|Physiography of North and Central Eurasia Hypsography|http://data.fao.org/maps/wms|OGC:WMS|application/vnd.ogc.wms_xml|1'] \n",
      "\n"
     ]
    }
   ],
   "source": [
    "print('old ranking\\n')\n",
    "for i, doc in enumerate(processed_r1[0:3]):\n",
    "    print(i, doc['url'], '\\n')\n",
    "    \n",
    "print('\\n\\nnew ranking\\n')\n",
    "for i, doc in enumerate(new_ranking1[0:3]):\n",
    "    print(i, doc[1], '\\n') "
   ]
  },
  {
   "cell_type": "code",
   "execution_count": 12,
   "metadata": {},
   "outputs": [
    {
     "name": "stdout",
     "output_type": "stream",
     "text": [
      "old ranking\n",
      "\n",
      "0 [\"|Online link to the 'Water Resources and Irrigation in Africa'- website|http://www.fao.org/ag/AGL/aglw/aquastat/watresafrica/index.stm|WWW:LINK-1.0-http--link|text/html|1\", 'basins.zip|Hydrological basins in Africa (Shapefile Format)|http://localhost:8080/geonetwork/srv/api/records/da165110-88fd-11da-a88f-000d939bc5d8/attachments/basins.zip|WWW:DOWNLOAD-1.0-http--download|\\n        application/zip\\n      |1', 'GEONETWORK:basins_296|Hydrological basins in Africa|http://data.fao.org/maps/wms|OGC:WMS|application/vnd.ogc.wms_xml|1'] \n",
      "\n",
      "1 |Web page listing Data Service Providers (DSP)s|http://www.land.vic.gov.au/vicmapdsp||text/plain|1 \n",
      "\n",
      "2 ['http://localhost:8082/geonetwork_anaee/32367bcf-e2d5-4cf3-92bb-b1734fa670a2', 'http://w3.avignon.inra.fr/geonetwork_anaee/32367bcf-e2d5-4cf3-92bb-b1734fa670a2'] \n",
      "\n",
      "\n",
      "\n",
      "new ranking\n",
      "\n",
      "0 http://w3.avignon.inra.fr/geonetwork_anaee/546ed900-ded6-4770-be14-4e702b136309 \n",
      "\n",
      "1 http://w3.avignon.inra.fr/geonetwork_anaee/srv/eng/catalog.search#/metadata/4fbd2cb9-1a62-484b-8aa4-e2c94b8acf82 \n",
      "\n",
      "2 ['phy.zip|Physiography of North and Central Eurasia Landform (Gif Format)|http://localhost:8080/geonetwork/srv/api/records/78f93047-74f8-4419-ac3d-fc62e4b0477b/attachments/phy.zip|WWW:DOWNLOAD-1.0-http--download|\\n        application/zip\\n      |1', 'GEONETWORK:phy_landf_7386|Physiography of North and Central Eurasia Landform|http://data.fao.org/maps/wms|OGC:WMS|application/vnd.ogc.wms_xml|1', 'GEONETWORK:phy_slope_7386|Physiography of North and Central Eurasia Slope|http://data.fao.org/maps/wms|OGC:WMS|application/vnd.ogc.wms_xml|1', 'GEONETWORK:phy_hypso_7386|Physiography of North and Central Eurasia Hypsography|http://data.fao.org/maps/wms|OGC:WMS|application/vnd.ogc.wms_xml|1'] \n",
      "\n"
     ]
    }
   ],
   "source": [
    "print('old ranking\\n')\n",
    "for i, doc in enumerate(processed_r2[0:3]):\n",
    "    print(i, doc['url'], '\\n')\n",
    "    \n",
    "print('\\n\\nnew ranking\\n')\n",
    "for i, doc in enumerate(new_ranking2[0:3]):\n",
    "    print(i, doc[1], '\\n')  "
   ]
  },
  {
   "cell_type": "code",
   "execution_count": 13,
   "metadata": {},
   "outputs": [
    {
     "name": "stdout",
     "output_type": "stream",
     "text": [
      "old ranking\n",
      "\n",
      "0 [\"|Online link to the 'Water Resources and Irrigation in Africa'- website|http://www.fao.org/ag/AGL/aglw/aquastat/watresafrica/index.stm|WWW:LINK-1.0-http--link|text/html|1\", 'basins.zip|Hydrological basins in Africa (Shapefile Format)|http://localhost:8080/geonetwork/srv/api/records/da165110-88fd-11da-a88f-000d939bc5d8/attachments/basins.zip|WWW:DOWNLOAD-1.0-http--download|\\n        application/zip\\n      |1', 'GEONETWORK:basins_296|Hydrological basins in Africa|http://data.fao.org/maps/wms|OGC:WMS|application/vnd.ogc.wms_xml|1'] \n",
      "\n",
      "1 http://w3.avignon.inra.fr/geonetwork_anaee/546ed900-ded6-4770-be14-4e702b136309 \n",
      "\n",
      "2 ['http://localhost:8082/geonetwork_anaee/d466e5e3-2ec0-47d9-b179-9bd088215ebb', 'http://w3.avignon.inra.fr/geonetwork_anaee/d466e5e3-2ec0-47d9-b179-9bd088215ebb'] \n",
      "\n",
      "\n",
      "\n",
      "new ranking\n",
      "\n",
      "0 http://w3.avignon.inra.fr/geonetwork_anaee/546ed900-ded6-4770-be14-4e702b136309 \n",
      "\n",
      "1 http://w3.avignon.inra.fr/geonetwork_anaee/srv/eng/catalog.search#/metadata/4fbd2cb9-1a62-484b-8aa4-e2c94b8acf82 \n",
      "\n",
      "2 ['phy.zip|Physiography of North and Central Eurasia Landform (Gif Format)|http://localhost:8080/geonetwork/srv/api/records/78f93047-74f8-4419-ac3d-fc62e4b0477b/attachments/phy.zip|WWW:DOWNLOAD-1.0-http--download|\\n        application/zip\\n      |1', 'GEONETWORK:phy_landf_7386|Physiography of North and Central Eurasia Landform|http://data.fao.org/maps/wms|OGC:WMS|application/vnd.ogc.wms_xml|1', 'GEONETWORK:phy_slope_7386|Physiography of North and Central Eurasia Slope|http://data.fao.org/maps/wms|OGC:WMS|application/vnd.ogc.wms_xml|1', 'GEONETWORK:phy_hypso_7386|Physiography of North and Central Eurasia Hypsography|http://data.fao.org/maps/wms|OGC:WMS|application/vnd.ogc.wms_xml|1'] \n",
      "\n"
     ]
    }
   ],
   "source": [
    "print('old ranking\\n')\n",
    "for i, doc in enumerate(processed_r3[0:3]):\n",
    "    print(i, doc['url'], '\\n')\n",
    "    \n",
    "print('\\n\\nnew ranking\\n')\n",
    "for i, doc in enumerate(new_ranking3[0:3]):\n",
    "    print(i, doc[1], '\\n')  "
   ]
  },
  {
   "cell_type": "code",
   "execution_count": 14,
   "metadata": {},
   "outputs": [
    {
     "name": "stdout",
     "output_type": "stream",
     "text": [
      "old ranking\n",
      "\n",
      "0 http://w3.avignon.inra.fr/geonetwork_anaee/f0dafd0b-3462-45b1-9062-538c2296d030 \n",
      "\n",
      "1 http://w3.avignon.inra.fr/geonetwork_anaee/c7179e1a-1316-49f2-a5f9-94ca06bf3259 \n",
      "\n",
      "2 [\"|Online link to the 'Water Resources and Irrigation in Africa'- website|http://www.fao.org/ag/AGL/aglw/aquastat/watresafrica/index.stm|WWW:LINK-1.0-http--link|text/html|1\", 'basins.zip|Hydrological basins in Africa (Shapefile Format)|http://localhost:8080/geonetwork/srv/api/records/da165110-88fd-11da-a88f-000d939bc5d8/attachments/basins.zip|WWW:DOWNLOAD-1.0-http--download|\\n        application/zip\\n      |1', 'GEONETWORK:basins_296|Hydrological basins in Africa|http://data.fao.org/maps/wms|OGC:WMS|application/vnd.ogc.wms_xml|1'] \n",
      "\n",
      "\n",
      "\n",
      "new ranking\n",
      "\n",
      "0 http://w3.avignon.inra.fr/geonetwork_anaee/c32a4228-b3b7-4eda-b06c-97d0e59c0dfb \n",
      "\n",
      "1 ['phy.zip|Physiography of North and Central Eurasia Landform (Gif Format)|http://localhost:8080/geonetwork/srv/api/records/78f93047-74f8-4419-ac3d-fc62e4b0477b/attachments/phy.zip|WWW:DOWNLOAD-1.0-http--download|\\n        application/zip\\n      |1', 'GEONETWORK:phy_landf_7386|Physiography of North and Central Eurasia Landform|http://data.fao.org/maps/wms|OGC:WMS|application/vnd.ogc.wms_xml|1', 'GEONETWORK:phy_slope_7386|Physiography of North and Central Eurasia Slope|http://data.fao.org/maps/wms|OGC:WMS|application/vnd.ogc.wms_xml|1', 'GEONETWORK:phy_hypso_7386|Physiography of North and Central Eurasia Hypsography|http://data.fao.org/maps/wms|OGC:WMS|application/vnd.ogc.wms_xml|1'] \n",
      "\n",
      "2 http://w3.avignon.inra.fr/geonetwork_anaee/c7179e1a-1316-49f2-a5f9-94ca06bf3259 \n",
      "\n"
     ]
    }
   ],
   "source": [
    "print('old ranking\\n')\n",
    "for i, doc in enumerate(processed_r4[0:3]):\n",
    "    print(i, doc['url'], '\\n')\n",
    "    \n",
    "print('\\n\\nnew ranking\\n')\n",
    "for i, doc in enumerate(new_ranking4[0:3]):\n",
    "    print(i, doc[1], '\\n')  "
   ]
  },
  {
   "cell_type": "code",
   "execution_count": 15,
   "metadata": {},
   "outputs": [
    {
     "name": "stdout",
     "output_type": "stream",
     "text": [
      "old ranking\n",
      "\n",
      "0 [\"|Online link to the 'Water Resources and Irrigation in Africa'- website|http://www.fao.org/ag/AGL/aglw/aquastat/watresafrica/index.stm|WWW:LINK-1.0-http--link|text/html|1\", 'basins.zip|Hydrological basins in Africa (Shapefile Format)|http://localhost:8080/geonetwork/srv/api/records/da165110-88fd-11da-a88f-000d939bc5d8/attachments/basins.zip|WWW:DOWNLOAD-1.0-http--download|\\n        application/zip\\n      |1', 'GEONETWORK:basins_296|Hydrological basins in Africa|http://data.fao.org/maps/wms|OGC:WMS|application/vnd.ogc.wms_xml|1'] \n",
      "\n",
      "1 ['http://localhost:8082/geonetwork_anaee/a0248f18-bcdc-4bf0-93b3-7779f3797345', 'http://w3.avignon.inra.fr/geonetwork_anaee/a0248f18-bcdc-4bf0-93b3-7779f3797345'] \n",
      "\n",
      "2 ['http://localhost:8082/geonetwork_anaee/32367bcf-e2d5-4cf3-92bb-b1734fa670a2', 'http://w3.avignon.inra.fr/geonetwork_anaee/32367bcf-e2d5-4cf3-92bb-b1734fa670a2'] \n",
      "\n",
      "\n",
      "\n",
      "new ranking\n",
      "\n",
      "0 ['phy.zip|Physiography of North and Central Eurasia Landform (Gif Format)|http://localhost:8080/geonetwork/srv/api/records/78f93047-74f8-4419-ac3d-fc62e4b0477b/attachments/phy.zip|WWW:DOWNLOAD-1.0-http--download|\\n        application/zip\\n      |1', 'GEONETWORK:phy_landf_7386|Physiography of North and Central Eurasia Landform|http://data.fao.org/maps/wms|OGC:WMS|application/vnd.ogc.wms_xml|1', 'GEONETWORK:phy_slope_7386|Physiography of North and Central Eurasia Slope|http://data.fao.org/maps/wms|OGC:WMS|application/vnd.ogc.wms_xml|1', 'GEONETWORK:phy_hypso_7386|Physiography of North and Central Eurasia Hypsography|http://data.fao.org/maps/wms|OGC:WMS|application/vnd.ogc.wms_xml|1'] \n",
      "\n",
      "1 [\"|Online link to the 'Water Resources and Irrigation in Africa'- website|http://www.fao.org/ag/AGL/aglw/aquastat/watresafrica/index.stm|WWW:LINK-1.0-http--link|text/html|1\", 'basins.zip|Hydrological basins in Africa (Shapefile Format)|http://localhost:8080/geonetwork/srv/api/records/da165110-88fd-11da-a88f-000d939bc5d8/attachments/basins.zip|WWW:DOWNLOAD-1.0-http--download|\\n        application/zip\\n      |1', 'GEONETWORK:basins_296|Hydrological basins in Africa|http://data.fao.org/maps/wms|OGC:WMS|application/vnd.ogc.wms_xml|1'] \n",
      "\n",
      "2 |Web page listing Data Service Providers (DSP)s|http://www.land.vic.gov.au/vicmapdsp||text/plain|1 \n",
      "\n"
     ]
    }
   ],
   "source": [
    "print('old ranking\\n')\n",
    "for i, doc in enumerate(processed_r5[0:3]):\n",
    "    print(i, doc['url'], '\\n')\n",
    "    \n",
    "print('\\n\\nnew ranking\\n')\n",
    "for i, doc in enumerate(new_ranking5[0:3]):\n",
    "    print(i, doc[1], '\\n')  "
   ]
  }
 ],
 "metadata": {
  "kernelspec": {
   "display_name": "Python 3",
   "language": "python",
   "name": "python3"
  },
  "language_info": {
   "codemirror_mode": {
    "name": "ipython",
    "version": 3
   },
   "file_extension": ".py",
   "mimetype": "text/x-python",
   "name": "python",
   "nbconvert_exporter": "python",
   "pygments_lexer": "ipython3",
   "version": "3.8.2"
  }
 },
 "nbformat": 4,
 "nbformat_minor": 4
}
