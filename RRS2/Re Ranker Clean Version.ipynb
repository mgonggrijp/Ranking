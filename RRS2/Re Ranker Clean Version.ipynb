{
 "cells": [
  {
   "cell_type": "code",
   "execution_count": 1,
   "metadata": {},
   "outputs": [],
   "source": [
    "import numpy as np\n",
    "import requests\n",
    "import re\n",
    "from rank_bm25 import BM25Okapi\n",
    "import xmltodict"
   ]
  },
  {
   "cell_type": "code",
   "execution_count": 2,
   "metadata": {},
   "outputs": [],
   "source": [
    "\"\"\"\n",
    "    Takes in geonetwork xml ranking output.\n",
    "    \n",
    "    Outputs a list of documents represented\n",
    "    as dictionaries.\n",
    "    \n",
    "    The list is ordered according to the\n",
    "    geonetwork ranking.\n",
    "\"\"\"\n",
    "def make_doclist(geonetwork_output_xml):\n",
    "    \n",
    "    with open(geonetwork_output_xml) as fd:\n",
    "        doc = xmltodict.parse(fd.read())\n",
    "        \n",
    "    return [dict(d) for d in dict(doc['response'])['metadata']]"
   ]
  },
  {
   "cell_type": "code",
   "execution_count": 3,
   "metadata": {},
   "outputs": [],
   "source": [
    "\"\"\"\n",
    "    Collect relevant information from a single\n",
    "    document dictionary into a new dictionary.\n",
    "    \n",
    "    The slimmer representation only takes the \n",
    "    abstract, keyword set and url.\n",
    "\"\"\"\n",
    "def make_clean_doc(document):\n",
    "    \n",
    "    clean_doc = {}\n",
    "    \n",
    "    clean_doc['abstract'] = document['abstract'] # single string\n",
    "    clean_doc['keywords'] = document['keyword'] # list of keyword\n",
    "    clean_doc['url'] = document['identifier'] # link to the dataset\n",
    "    \n",
    "    return clean_doc"
   ]
  },
  {
   "cell_type": "code",
   "execution_count": 4,
   "metadata": {},
   "outputs": [],
   "source": [
    "\"\"\"\n",
    "    Turns al the documents from a geonetwork ranking\n",
    "    into the slimmer representation.\n",
    "    \n",
    "    Output is the same ordering as geonetwork gives.\n",
    "\"\"\"\n",
    "def clean_doclist(doclist):\n",
    "    docset = [None] * len(doclist)\n",
    "    \n",
    "    for i, d in enumerate(doclist):\n",
    "        docset[i] = make_clean_doc(d)\n",
    "    \n",
    "    return docset"
   ]
  },
  {
   "cell_type": "code",
   "execution_count": 5,
   "metadata": {},
   "outputs": [],
   "source": [
    "def handle_geonetwork_xml(geonetwork_output_xml):\n",
    "    return clean_doclist(make_doclist(geonetwork_output_xml))"
   ]
  },
  {
   "cell_type": "code",
   "execution_count": 6,
   "metadata": {},
   "outputs": [],
   "source": [
    "\"\"\"\n",
    "    Turns a clean doclist into a list of lists where\n",
    "    each sublist represents a document and each element\n",
    "    in the sublist is a string that exists in the document.\n",
    "    \n",
    "    This is a simple bag of words type representation\n",
    "    used by e.g. okapi BM250 module.\n",
    "\"\"\"\n",
    "def make_bm250_corpus(clean_doclist):\n",
    "    serialized = [None] * len(clean_doclist)\n",
    "    \n",
    "    for i, d in enumerate(clean_doclist):\n",
    "        \n",
    "        abstract = clean_doclist[i]['abstract'].split()        \n",
    "        serialized[i] = [x.lower() for x in abstract + clean_doclist[i]['keywords']   ]  \n",
    "        \n",
    "    return serialized"
   ]
  },
  {
   "cell_type": "code",
   "execution_count": 7,
   "metadata": {},
   "outputs": [],
   "source": [
    "class RRS:\n",
    "    def __init__(self, method):\n",
    "        self.method = method\n",
    "        self.corpus = None\n",
    "        \n",
    "        \n",
    "    def rank(self, query, old_ranking, old_ranking_format):\n",
    "        \n",
    "        if old_ranking_format == 'gnxml':\n",
    "            self.corpus = handle_geonetwork_xml(old_ranking)\n",
    "\n",
    "            if self.method == 'BM250kapi':\n",
    "                bm250kapi = BM25Okapi( make_bm250_corpus(self.corpus) )\n",
    "                scores = bm250kapi.get_scores(query)\n",
    "                \n",
    "                doc_scorings = sorted([ (scores[i], x['url']) for i, x in enumerate(self.corpus)], key=lambda tup: tup[0])\n",
    "                doc_scorings.reverse()\n",
    "                \n",
    "                return doc_scorings\n",
    "        \n",
    "        \n",
    "    def insert_feedback(self, feedback):\n",
    "        \n",
    "        if self.method == 'BM250kapi':\n",
    "            return 'current ranking method has not feedback learning mechanism, please make a different instance of RRS with a learning method'"
   ]
  },
  {
   "cell_type": "code",
   "execution_count": 8,
   "metadata": {},
   "outputs": [
    {
     "data": {
      "text/plain": [
       "[(1.4551969422258917,\n",
       "  'http://w3.avignon.inra.fr/geonetwork_anaee/srv/eng/catalog.search#/metadata/5934deaf-ee90-4338-b9a5-ecb6f200d0f3'),\n",
       " (1.1673837780400242,\n",
       "  'http://w3.avignon.inra.fr/geonetwork_anaee/d16472fe-ca94-4e35-8dac-934eeced2ea4'),\n",
       " (1.0945819450550336,\n",
       "  'http://w3.avignon.inra.fr/geonetwork_anaee/c32a4228-b3b7-4eda-b06c-97d0e59c0dfb'),\n",
       " (1.0631752367484597,\n",
       "  'http://w3.avignon.inra.fr/geonetwork_anaee/546ed900-ded6-4770-be14-4e702b136309'),\n",
       " (0.9916641795252035,\n",
       "  'http://w3.avignon.inra.fr/geonetwork_anaee/248a7f0c-cdbf-4002-b813-1384d3bba4b0'),\n",
       " (0.9353622768269519,\n",
       "  'http://w3.avignon.inra.fr/geonetwork_anaee/80894c9d-aa65-4808-8870-a04a7bf402f4'),\n",
       " (0.9025665213209669,\n",
       "  'http://w3.avignon.inra.fr/geonetwork_anaee/srv/eng/catalog.search#/metadata/ee19974d-36a4-4803-89a5-2637eb6d58d9'),\n",
       " (0.6792817854251807,\n",
       "  'http://w3.avignon.inra.fr/geonetwork_anaee/50264564-795a-45e0-bc28-7ef8568b62fa'),\n",
       " (0.6715291128741324,\n",
       "  'http://w3.avignon.inra.fr/geonetwork_anaee/srv/eng/catalog.search#/metadata/4fbd2cb9-1a62-484b-8aa4-e2c94b8acf82'),\n",
       " (0.5540868016539927,\n",
       "  'http://w3.avignon.inra.fr/geonetwork_anaee/srv/eng/catalog.search#/metadata/3fe00c17-cae3-4ad9-9ab2-06412d30185c'),\n",
       " (0.0,\n",
       "  'http://w3.avignon.inra.fr/geonetwork_anaee/srv/eng/catalog.search#/metadata/44a8ec47-5316-4f03-b3d4-e8247e909fcf'),\n",
       " (0.0,\n",
       "  'http://w3.avignon.inra.fr/geonetwork_anaee/srv/eng/catalog.search#/metadata/fd85ef74-988e-44c7-bb1b-c3655e6e5137'),\n",
       " (0.0,\n",
       "  'http://w3.avignon.inra.fr/geonetwork_anaee/f0dafd0b-3462-45b1-9062-538c2296d030'),\n",
       " (0.0,\n",
       "  'http://w3.avignon.inra.fr/geonetwork_anaee/ee520bf5-f86b-4064-97ce-8fb308d17efb'),\n",
       " (0.0,\n",
       "  'http://w3.avignon.inra.fr/geonetwork_anaee/80894c9d-aa65-4808-8870-a04a7bf402f4'),\n",
       " (0.0,\n",
       "  'http://w3.avignon.inra.fr/geonetwork_anaee/9db01e1c-da42-4f6a-850e-81ae0b3c2a88'),\n",
       " (0.0,\n",
       "  'http://w3.avignon.inra.fr/geonetwork_anaee/cdf098e3-2ae7-4514-8957-ef3847a21ec2'),\n",
       " (0.0,\n",
       "  ['http://localhost:8082/geonetwork_anaee/32367bcf-e2d5-4cf3-92bb-b1734fa670a2',\n",
       "   'http://w3.avignon.inra.fr/geonetwork_anaee/32367bcf-e2d5-4cf3-92bb-b1734fa670a2']),\n",
       " (0.0,\n",
       "  'http://w3.avignon.inra.fr/geonetwork_anaee/937d57d9-b01e-4506-afd6-3e71c5bb5873'),\n",
       " (0.0,\n",
       "  'http://w3.avignon.inra.fr/geonetwork_anaee/356d6b7b-5b1b-4271-8350-d0c3acc32e64')]"
      ]
     },
     "execution_count": 8,
     "metadata": {},
     "output_type": "execute_result"
    }
   ],
   "source": [
    "rrs_BM25 = RRS('BM250kapi')\n",
    "ranking = rrs_BM25.rank(['air','temperature'], 'output_climate.xml', 'gnxml')\n",
    "ranking"
   ]
  },
  {
   "cell_type": "code",
   "execution_count": 9,
   "metadata": {},
   "outputs": [
    {
     "data": {
      "text/plain": [
       "'current ranking method has not feedback learning mechanism, please make a different instance of RRS with a learning method'"
      ]
     },
     "execution_count": 9,
     "metadata": {},
     "output_type": "execute_result"
    }
   ],
   "source": [
    "rrs_BM25.insert_feedback(\"some feedback input stream\")"
   ]
  }
 ],
 "metadata": {
  "kernelspec": {
   "display_name": "Python 3",
   "language": "python",
   "name": "python3"
  },
  "language_info": {
   "codemirror_mode": {
    "name": "ipython",
    "version": 3
   },
   "file_extension": ".py",
   "mimetype": "text/x-python",
   "name": "python",
   "nbconvert_exporter": "python",
   "pygments_lexer": "ipython3",
   "version": "3.8.2"
  }
 },
 "nbformat": 4,
 "nbformat_minor": 4
}
